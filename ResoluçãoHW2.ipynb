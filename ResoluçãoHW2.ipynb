{
  "nbformat": 4,
  "nbformat_minor": 0,
  "metadata": {
    "colab": {
      "provenance": [],
      "authorship_tag": "ABX9TyPbUf2vcqXV0FkjyxLEP87C",
      "include_colab_link": true
    },
    "kernelspec": {
      "name": "python3",
      "display_name": "Python 3"
    },
    "language_info": {
      "name": "python"
    }
  },
  "cells": [
    {
      "cell_type": "markdown",
      "metadata": {
        "id": "view-in-github",
        "colab_type": "text"
      },
      "source": [
        "<a href=\"https://colab.research.google.com/github/NBittent/FIAP_IA_MACHINE_LEARNING/blob/main/Resolu%C3%A7%C3%A3oHW2.ipynb\" target=\"_parent\"><img src=\"https://colab.research.google.com/assets/colab-badge.svg\" alt=\"Open In Colab\"/></a>"
      ]
    },
    {
      "cell_type": "code",
      "execution_count": null,
      "metadata": {
        "id": "SoZYvpHqPUzJ"
      },
      "outputs": [],
      "source": []
    },
    {
      "cell_type": "markdown",
      "source": [
        "Este notebook tem como objetivo realizar uma análise descritiva de um conjunto de dados de URLs para identificar padrões relacionados a phishing.\n"
      ],
      "metadata": {
        "id": "vU2rPjAXPpgn"
      }
    },
    {
      "cell_type": "markdown",
      "source": [
        "Resolução Homework - RM554045 -\n",
        "Nícolas Tanajura\n",
        "3 Variáveis que serão analisadas\n",
        "\n",
        "\n",
        "1. **UrlLength**\n",
        "\n",
        "URLs de phishing costumam ser muito longas, tentando confundir o usuário, inserindo palavras-chave ou subdomínios falsos para parecerem legítimas. Analisar o\n",
        "comprimento total é uma métrica importante para identificar esse comportamento.\n",
        "\n",
        "\n",
        "2. **SubdomainLevel**\n",
        "\n",
        "\n",
        "Phishers frequentemente usam subdomínios adicionais para mascarar o domínio\n",
        "real, tentando enganar as vítimas. Por exemplo, \"seguro.banco.falso.com\" pode ser\n",
        "usado para simular legitimidade.\n",
        "\n",
        "\n",
        "3. **PctExtHyperlinks**\n",
        "\n",
        "\n",
        "Páginas de phishing tendem a ter muitos hiperlinks externos, levando o usuário para\n",
        "sites controlados pelos atacantes. Analisar a proporção de links externos em relação\n",
        "aos internos ajuda a identificar comportamentos suspeitos.\n"
      ],
      "metadata": {
        "id": "Hnij3wNdP7cc"
      }
    },
    {
      "cell_type": "code",
      "source": [
        "# Média UrlLength\n",
        "mean_value_url_length = df['UrlLength'].mean()\n",
        "mean_value_url_length_legitimas = df[df['CLASS_LABEL'] == 0]['UrlLength'].mean()\n",
        "mean_value_url_length_phishing = df[df['CLASS_LABEL'] == 1]['UrlLength'].mean()\n",
        "\n",
        "# Média SubdomainLevel\n",
        "mean_value_subdomain_level = df['SubdomainLevel'].mean()\n",
        "mean_value_subdomain_level_legitimas = df[df['CLASS_LABEL'] == 0]['SubdomainLevel'].mean()\n",
        "mean_value_subdomain_level_phishing = df[df['CLASS_LABEL'] == 1]['SubdomainLevel'].mean()\n",
        "\n",
        "# Média PctExtHyperlinks\n",
        "mean_value_pct_ext_hyperlinks = df['PctExtHyperlinks'].mean()\n",
        "mean_value_pct_ext_hyperlinks_legitimas = df[df['CLASS_LABEL'] == 0]['PctExtHyperlinks'].mean()\n",
        "mean_value_pct_ext_hyperlinks_phishing = df[df['CLASS_LABEL'] == 1]['PctExtHyperlinks'].mean()\n",
        "\n",
        "# Mediana UrlLength\n",
        "median_value_url_length = df['UrlLength'].median()\n",
        "median_value_url_length_legitimas = df[df['CLASS_LABEL'] == 0]['UrlLength'].median()\n",
        "median_value_url_length_phishing = df[df['CLASS_LABEL'] == 1]['UrlLength'].median()\n",
        "\n",
        "# Mediana SubdomainLevel\n",
        "median_value_subdomain_level = df['SubdomainLevel'].median()\n",
        "median_value_subdomain_level_legitimas = df[df['CLASS_LABEL'] == 0]['SubdomainLevel'].median()\n",
        "median_value_subdomain_level_phishing = df[df['CLASS_LABEL'] == 1]['SubdomainLevel'].median()\n",
        "\n",
        "# Mediana PctExtHyperlinks\n",
        "median_value_pct_ext_hyperlinks = df['PctExtHyperlinks'].median()\n",
        "median_value_pct_ext_hyperlinks_legitimas = df[df['CLASS_LABEL'] == 0]['PctExtHyperlinks'].median()\n",
        "median_value_pct_ext_hyperlinks_phishing = df[df['CLASS_LABEL'] == 1]['PctExtHyperlinks'].median()\n",
        "\n",
        "# Exibir os resultados\n",
        "print(\"Média UrlLength (Todas):\", mean_value_url_length)\n",
        "print(\"Média UrlLength (Legitimas):\", mean_value_url_length_legitimas)\n",
        "print(\"Média UrlLength (Phishing):\", mean_value_url_length_phishing)\n",
        "\n",
        "print(\"\\nMédia SubdomainLevel (Todas):\", mean_value_subdomain_level)\n",
        "print(\"Média SubdomainLevel (Legitimas):\", mean_value_subdomain_level_legitimas)\n",
        "print(\"Média SubdomainLevel (Phishing):\", mean_value_subdomain_level_phishing)\n",
        "\n",
        "print(\"\\nMédia PctExtHyperlinks (Todas):\", mean_value_pct_ext_hyperlinks)\n",
        "print(\"Média PctExtHyperlinks (Legitimas):\", mean_value_pct_ext_hyperlinks_legitimas)\n",
        "print(\"Média PctExtHyperlinks (Phishing):\", mean_value_pct_ext_hyperlinks_phishing)\n",
        "\n",
        "print(\"\\nMediana UrlLength (Todas):\", median_value_url_length)\n",
        "print(\"Mediana UrlLength (Legitimas):\", median_value_url_length_legitimas)\n",
        "print(\"Mediana UrlLength (Phishing):\", median_value_url_length_phishing)\n",
        "\n",
        "print(\"\\nMediana SubdomainLevel (Todas):\", median_value_subdomain_level)\n",
        "print(\"Mediana SubdomainLevel (Legitimas):\", median_value_subdomain_level_legitimas)\n",
        "print(\"Mediana SubdomainLevel (Phishing):\", median_value_subdomain_level_phishing)\n",
        "\n",
        "print(\"\\nMediana PctExtHyperlinks (Todas):\", median_value_pct_ext_hyperlinks)\n",
        "print(\"Mediana PctExtHyperlinks (Legitimas):\", median_value_pct_ext_hyperlinks_legitimas)\n",
        "print(\"Mediana PctExtHyperlinks (Phishing):\", median_value_pct_ext_hyperlinks_phishing)\n"
      ],
      "metadata": {
        "id": "zxx8ojOfNkcU"
      },
      "execution_count": null,
      "outputs": []
    },
    {
      "cell_type": "markdown",
      "source": [
        "### Conclusão do Homework 1:\n",
        "As variáveis escolhidas mostraram diferenças significativas entre URLs legítimas e de phishing. A análise das médias e medianas sugere que essas características são indicadores úteis na identificação de phishing, com URLs de phishing tendendo a ser mais curtas, mas contendo mais subdomínios e links externos.\n"
      ],
      "metadata": {
        "id": "9L-Fj6RrQD26"
      }
    },
    {
      "cell_type": "code",
      "source": [],
      "metadata": {
        "id": "evMaQsWSQFNX"
      },
      "execution_count": null,
      "outputs": []
    }
  ]
}